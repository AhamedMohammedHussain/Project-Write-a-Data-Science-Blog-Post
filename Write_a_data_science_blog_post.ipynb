{
  "nbformat": 4,
  "nbformat_minor": 0,
  "metadata": {
    "colab": {
      "name": "Write a data science blog post.ipynb",
      "provenance": [],
      "collapsed_sections": []
    },
    "kernelspec": {
      "name": "python3",
      "display_name": "Python 3"
    }
  },
  "cells": [
    {
      "cell_type": "markdown",
      "metadata": {
        "id": "TZd0-UVdfp3M",
        "colab_type": "text"
      },
      "source": [
        "#Project: Write a data science blog post "
      ]
    },
    {
      "cell_type": "markdown",
      "metadata": {
        "id": "enux59NGf3JY",
        "colab_type": "text"
      },
      "source": [
        "Table of Contents\n",
        "\n",
        "  1.  Business Understanding\n",
        "  2.  Data Understanding\n",
        "  3.  Data Preparation\n",
        "  4.  Modeling\n",
        "  5.  Evaluation\n"
      ]
    },
    {
      "cell_type": "markdown",
      "metadata": {
        "id": "D1yco2j3gAhY",
        "colab_type": "text"
      },
      "source": [
        "### 1. Business Understanding"
      ]
    },
    {
      "cell_type": "markdown",
      "metadata": {
        "id": "NSyk038JgNvM",
        "colab_type": "text"
      },
      "source": [
        "The dataset is from [Kaggle](https://www.kaggle.com/russellyates88/suicide-rates-overview-1985-to-2016) which contains info about across the world.The parameters are country , year , sex , HDI of the country , population , gdp of country etc. This project is associated with using this dataset as input , drawing meaningful observations and finally communicating the observations to the people.\n",
        "\n",
        "With the given dataset , we will try to answer the following questions:\n",
        "\n",
        "1) Which country has the highest suicide number across a total time period from 1985 to 2014  ?\n",
        "\n",
        "2) To which age category and sex category do most people belong?\n",
        "\n",
        "3) In which generation does it occured mostly?\n",
        "\n",
        "4) Does it have any relation with year (proportional as with increasing time or not ) ?\n",
        "\n",
        "5) Does the HDI have anything common with suicide number?"
      ]
    },
    {
      "cell_type": "markdown",
      "metadata": {
        "id": "thR6lN3AiQCa",
        "colab_type": "text"
      },
      "source": [
        "#2. Data Understanding\n",
        "\n",
        "In this section of the report, we will load in the data, check for cleanliness, and then trim and clean the dataset for analysis.\n"
      ]
    },
    {
      "cell_type": "code",
      "metadata": {
        "id": "5fDhMGBAiu0W",
        "colab_type": "code",
        "colab": {
          "base_uri": "https://localhost:8080/",
          "height": 74
        },
        "outputId": "ffc17add-12bb-4a22-e443-9f9c07377adb"
      },
      "source": [
        "import collections\n",
        "import numpy as np  \n",
        "import pandas as pd\n",
        "import matplotlib.pyplot as plt\n",
        "import matplotlib.ticker as ticker\n",
        "import os\n",
        "import seaborn as sns\n",
        "plt.style.use('fivethirtyeight')\n",
        "import warnings\n",
        "warnings.filterwarnings(\"ignore\")\n"
      ],
      "execution_count": 1,
      "outputs": [
        {
          "output_type": "stream",
          "text": [
            "/usr/local/lib/python3.6/dist-packages/statsmodels/tools/_testing.py:19: FutureWarning: pandas.util.testing is deprecated. Use the functions in the public API at pandas.testing instead.\n",
            "  import pandas.util.testing as tm\n"
          ],
          "name": "stderr"
        }
      ]
    },
    {
      "cell_type": "code",
      "metadata": {
        "id": "gsDXaBThivOe",
        "colab_type": "code",
        "colab": {}
      },
      "source": [
        "file = pd.read_csv(\"/content/drive/My Drive/Colab Notebooks/master.csv\")\n",
        "df=file"
      ],
      "execution_count": 0,
      "outputs": []
    },
    {
      "cell_type": "markdown",
      "metadata": {
        "id": "b9iDaR9xlsYT",
        "colab_type": "text"
      },
      "source": [
        "Viewing the first 5 roes"
      ]
    },
    {
      "cell_type": "code",
      "metadata": {
        "id": "5Vfx00JVi1XS",
        "colab_type": "code",
        "colab": {
          "base_uri": "https://localhost:8080/",
          "height": 206
        },
        "outputId": "95d90133-cee3-43b1-f8e1-84df8126831e"
      },
      "source": [
        "df.head()"
      ],
      "execution_count": 3,
      "outputs": [
        {
          "output_type": "execute_result",
          "data": {
            "text/html": [
              "<div>\n",
              "<style scoped>\n",
              "    .dataframe tbody tr th:only-of-type {\n",
              "        vertical-align: middle;\n",
              "    }\n",
              "\n",
              "    .dataframe tbody tr th {\n",
              "        vertical-align: top;\n",
              "    }\n",
              "\n",
              "    .dataframe thead th {\n",
              "        text-align: right;\n",
              "    }\n",
              "</style>\n",
              "<table border=\"1\" class=\"dataframe\">\n",
              "  <thead>\n",
              "    <tr style=\"text-align: right;\">\n",
              "      <th></th>\n",
              "      <th>country</th>\n",
              "      <th>year</th>\n",
              "      <th>sex</th>\n",
              "      <th>age</th>\n",
              "      <th>suicides_no</th>\n",
              "      <th>population</th>\n",
              "      <th>suicides/100k pop</th>\n",
              "      <th>country-year</th>\n",
              "      <th>HDI for year</th>\n",
              "      <th>gdp_for_year ($)</th>\n",
              "      <th>gdp_per_capita ($)</th>\n",
              "      <th>generation</th>\n",
              "    </tr>\n",
              "  </thead>\n",
              "  <tbody>\n",
              "    <tr>\n",
              "      <th>0</th>\n",
              "      <td>Albania</td>\n",
              "      <td>1987</td>\n",
              "      <td>male</td>\n",
              "      <td>15-24 years</td>\n",
              "      <td>21</td>\n",
              "      <td>312900</td>\n",
              "      <td>6.71</td>\n",
              "      <td>Albania1987</td>\n",
              "      <td>NaN</td>\n",
              "      <td>2,156,624,900</td>\n",
              "      <td>796</td>\n",
              "      <td>Generation X</td>\n",
              "    </tr>\n",
              "    <tr>\n",
              "      <th>1</th>\n",
              "      <td>Albania</td>\n",
              "      <td>1987</td>\n",
              "      <td>male</td>\n",
              "      <td>35-54 years</td>\n",
              "      <td>16</td>\n",
              "      <td>308000</td>\n",
              "      <td>5.19</td>\n",
              "      <td>Albania1987</td>\n",
              "      <td>NaN</td>\n",
              "      <td>2,156,624,900</td>\n",
              "      <td>796</td>\n",
              "      <td>Silent</td>\n",
              "    </tr>\n",
              "    <tr>\n",
              "      <th>2</th>\n",
              "      <td>Albania</td>\n",
              "      <td>1987</td>\n",
              "      <td>female</td>\n",
              "      <td>15-24 years</td>\n",
              "      <td>14</td>\n",
              "      <td>289700</td>\n",
              "      <td>4.83</td>\n",
              "      <td>Albania1987</td>\n",
              "      <td>NaN</td>\n",
              "      <td>2,156,624,900</td>\n",
              "      <td>796</td>\n",
              "      <td>Generation X</td>\n",
              "    </tr>\n",
              "    <tr>\n",
              "      <th>3</th>\n",
              "      <td>Albania</td>\n",
              "      <td>1987</td>\n",
              "      <td>male</td>\n",
              "      <td>75+ years</td>\n",
              "      <td>1</td>\n",
              "      <td>21800</td>\n",
              "      <td>4.59</td>\n",
              "      <td>Albania1987</td>\n",
              "      <td>NaN</td>\n",
              "      <td>2,156,624,900</td>\n",
              "      <td>796</td>\n",
              "      <td>G.I. Generation</td>\n",
              "    </tr>\n",
              "    <tr>\n",
              "      <th>4</th>\n",
              "      <td>Albania</td>\n",
              "      <td>1987</td>\n",
              "      <td>male</td>\n",
              "      <td>25-34 years</td>\n",
              "      <td>9</td>\n",
              "      <td>274300</td>\n",
              "      <td>3.28</td>\n",
              "      <td>Albania1987</td>\n",
              "      <td>NaN</td>\n",
              "      <td>2,156,624,900</td>\n",
              "      <td>796</td>\n",
              "      <td>Boomers</td>\n",
              "    </tr>\n",
              "  </tbody>\n",
              "</table>\n",
              "</div>"
            ],
            "text/plain": [
              "   country  year  ... gdp_per_capita ($)       generation\n",
              "0  Albania  1987  ...                796     Generation X\n",
              "1  Albania  1987  ...                796           Silent\n",
              "2  Albania  1987  ...                796     Generation X\n",
              "3  Albania  1987  ...                796  G.I. Generation\n",
              "4  Albania  1987  ...                796          Boomers\n",
              "\n",
              "[5 rows x 12 columns]"
            ]
          },
          "metadata": {
            "tags": []
          },
          "execution_count": 3
        }
      ]
    },
    {
      "cell_type": "markdown",
      "metadata": {
        "id": "PGMgPewEoTl8",
        "colab_type": "text"
      },
      "source": [
        "Generation means those who are born in specific time period\n",
        "\n",
        "1) G i Gen     - 1904 - 1925\n",
        "\n",
        "2) silent      - 1925 - 1939\n",
        "\n",
        "3) Boomer      - 1944 - 1964\n",
        "\n",
        "4) Gen X       - 1965 - 1979\n",
        "\n",
        "5) Millennial  - 1980 - 1994\n",
        "\n",
        "6) Gen Z       - 1995 - 2015\n"
      ]
    },
    {
      "cell_type": "markdown",
      "metadata": {
        "id": "HXyhcuohlvfr",
        "colab_type": "text"
      },
      "source": [
        "Knowing with shape"
      ]
    },
    {
      "cell_type": "code",
      "metadata": {
        "id": "6izuqsQvlcNR",
        "colab_type": "code",
        "colab": {
          "base_uri": "https://localhost:8080/",
          "height": 36
        },
        "outputId": "f5e04783-24e9-4b6d-d2a1-c52d44b5d5b9"
      },
      "source": [
        "df.shape"
      ],
      "execution_count": 4,
      "outputs": [
        {
          "output_type": "execute_result",
          "data": {
            "text/plain": [
              "(27820, 12)"
            ]
          },
          "metadata": {
            "tags": []
          },
          "execution_count": 4
        }
      ]
    },
    {
      "cell_type": "markdown",
      "metadata": {
        "id": "59988I1Jl4wQ",
        "colab_type": "text"
      },
      "source": [
        "Finding the general information"
      ]
    },
    {
      "cell_type": "code",
      "metadata": {
        "id": "-mIMInX2l82g",
        "colab_type": "code",
        "colab": {
          "base_uri": "https://localhost:8080/",
          "height": 370
        },
        "outputId": "21b58398-2666-42be-ebd1-7e73f90866fd"
      },
      "source": [
        "df.info()"
      ],
      "execution_count": 5,
      "outputs": [
        {
          "output_type": "stream",
          "text": [
            "<class 'pandas.core.frame.DataFrame'>\n",
            "RangeIndex: 27820 entries, 0 to 27819\n",
            "Data columns (total 12 columns):\n",
            " #   Column              Non-Null Count  Dtype  \n",
            "---  ------              --------------  -----  \n",
            " 0   country             27820 non-null  object \n",
            " 1   year                27820 non-null  int64  \n",
            " 2   sex                 27820 non-null  object \n",
            " 3   age                 27820 non-null  object \n",
            " 4   suicides_no         27820 non-null  int64  \n",
            " 5   population          27820 non-null  int64  \n",
            " 6   suicides/100k pop   27820 non-null  float64\n",
            " 7   country-year        27820 non-null  object \n",
            " 8   HDI for year        8364 non-null   float64\n",
            " 9    gdp_for_year ($)   27820 non-null  object \n",
            " 10  gdp_per_capita ($)  27820 non-null  int64  \n",
            " 11  generation          27820 non-null  object \n",
            "dtypes: float64(2), int64(4), object(6)\n",
            "memory usage: 2.5+ MB\n"
          ],
          "name": "stdout"
        }
      ]
    },
    {
      "cell_type": "markdown",
      "metadata": {
        "id": "9M1IvfNnmGRZ",
        "colab_type": "text"
      },
      "source": [
        "Getting description so that we can know what to work with"
      ]
    },
    {
      "cell_type": "code",
      "metadata": {
        "id": "LzU7JF47mMyo",
        "colab_type": "code",
        "colab": {
          "base_uri": "https://localhost:8080/",
          "height": 300
        },
        "outputId": "0cf9e90b-3f23-4381-f41e-18b0e341ff51"
      },
      "source": [
        "df.describe()"
      ],
      "execution_count": 6,
      "outputs": [
        {
          "output_type": "execute_result",
          "data": {
            "text/html": [
              "<div>\n",
              "<style scoped>\n",
              "    .dataframe tbody tr th:only-of-type {\n",
              "        vertical-align: middle;\n",
              "    }\n",
              "\n",
              "    .dataframe tbody tr th {\n",
              "        vertical-align: top;\n",
              "    }\n",
              "\n",
              "    .dataframe thead th {\n",
              "        text-align: right;\n",
              "    }\n",
              "</style>\n",
              "<table border=\"1\" class=\"dataframe\">\n",
              "  <thead>\n",
              "    <tr style=\"text-align: right;\">\n",
              "      <th></th>\n",
              "      <th>year</th>\n",
              "      <th>suicides_no</th>\n",
              "      <th>population</th>\n",
              "      <th>suicides/100k pop</th>\n",
              "      <th>HDI for year</th>\n",
              "      <th>gdp_per_capita ($)</th>\n",
              "    </tr>\n",
              "  </thead>\n",
              "  <tbody>\n",
              "    <tr>\n",
              "      <th>count</th>\n",
              "      <td>27820.000000</td>\n",
              "      <td>27820.000000</td>\n",
              "      <td>2.782000e+04</td>\n",
              "      <td>27820.000000</td>\n",
              "      <td>8364.000000</td>\n",
              "      <td>27820.000000</td>\n",
              "    </tr>\n",
              "    <tr>\n",
              "      <th>mean</th>\n",
              "      <td>2001.258375</td>\n",
              "      <td>242.574407</td>\n",
              "      <td>1.844794e+06</td>\n",
              "      <td>12.816097</td>\n",
              "      <td>0.776601</td>\n",
              "      <td>16866.464414</td>\n",
              "    </tr>\n",
              "    <tr>\n",
              "      <th>std</th>\n",
              "      <td>8.469055</td>\n",
              "      <td>902.047917</td>\n",
              "      <td>3.911779e+06</td>\n",
              "      <td>18.961511</td>\n",
              "      <td>0.093367</td>\n",
              "      <td>18887.576472</td>\n",
              "    </tr>\n",
              "    <tr>\n",
              "      <th>min</th>\n",
              "      <td>1985.000000</td>\n",
              "      <td>0.000000</td>\n",
              "      <td>2.780000e+02</td>\n",
              "      <td>0.000000</td>\n",
              "      <td>0.483000</td>\n",
              "      <td>251.000000</td>\n",
              "    </tr>\n",
              "    <tr>\n",
              "      <th>25%</th>\n",
              "      <td>1995.000000</td>\n",
              "      <td>3.000000</td>\n",
              "      <td>9.749850e+04</td>\n",
              "      <td>0.920000</td>\n",
              "      <td>0.713000</td>\n",
              "      <td>3447.000000</td>\n",
              "    </tr>\n",
              "    <tr>\n",
              "      <th>50%</th>\n",
              "      <td>2002.000000</td>\n",
              "      <td>25.000000</td>\n",
              "      <td>4.301500e+05</td>\n",
              "      <td>5.990000</td>\n",
              "      <td>0.779000</td>\n",
              "      <td>9372.000000</td>\n",
              "    </tr>\n",
              "    <tr>\n",
              "      <th>75%</th>\n",
              "      <td>2008.000000</td>\n",
              "      <td>131.000000</td>\n",
              "      <td>1.486143e+06</td>\n",
              "      <td>16.620000</td>\n",
              "      <td>0.855000</td>\n",
              "      <td>24874.000000</td>\n",
              "    </tr>\n",
              "    <tr>\n",
              "      <th>max</th>\n",
              "      <td>2016.000000</td>\n",
              "      <td>22338.000000</td>\n",
              "      <td>4.380521e+07</td>\n",
              "      <td>224.970000</td>\n",
              "      <td>0.944000</td>\n",
              "      <td>126352.000000</td>\n",
              "    </tr>\n",
              "  </tbody>\n",
              "</table>\n",
              "</div>"
            ],
            "text/plain": [
              "               year   suicides_no  ...  HDI for year  gdp_per_capita ($)\n",
              "count  27820.000000  27820.000000  ...   8364.000000        27820.000000\n",
              "mean    2001.258375    242.574407  ...      0.776601        16866.464414\n",
              "std        8.469055    902.047917  ...      0.093367        18887.576472\n",
              "min     1985.000000      0.000000  ...      0.483000          251.000000\n",
              "25%     1995.000000      3.000000  ...      0.713000         3447.000000\n",
              "50%     2002.000000     25.000000  ...      0.779000         9372.000000\n",
              "75%     2008.000000    131.000000  ...      0.855000        24874.000000\n",
              "max     2016.000000  22338.000000  ...      0.944000       126352.000000\n",
              "\n",
              "[8 rows x 6 columns]"
            ]
          },
          "metadata": {
            "tags": []
          },
          "execution_count": 6
        }
      ]
    },
    {
      "cell_type": "markdown",
      "metadata": {
        "id": "_5gH2MWbmP8i",
        "colab_type": "text"
      },
      "source": [
        "Types of elements"
      ]
    },
    {
      "cell_type": "code",
      "metadata": {
        "id": "meO6qY6vmUlG",
        "colab_type": "code",
        "colab": {
          "base_uri": "https://localhost:8080/",
          "height": 258
        },
        "outputId": "0e780810-eec1-4d79-8732-7b24733033eb"
      },
      "source": [
        "df.dtypes"
      ],
      "execution_count": 7,
      "outputs": [
        {
          "output_type": "execute_result",
          "data": {
            "text/plain": [
              "country                object\n",
              "year                    int64\n",
              "sex                    object\n",
              "age                    object\n",
              "suicides_no             int64\n",
              "population              int64\n",
              "suicides/100k pop     float64\n",
              "country-year           object\n",
              "HDI for year          float64\n",
              " gdp_for_year ($)      object\n",
              "gdp_per_capita ($)      int64\n",
              "generation             object\n",
              "dtype: object"
            ]
          },
          "metadata": {
            "tags": []
          },
          "execution_count": 7
        }
      ]
    },
    {
      "cell_type": "markdown",
      "metadata": {
        "id": "4xbAMpOwmfE3",
        "colab_type": "text"
      },
      "source": [
        "#3. Data Preparation\n",
        "\n",
        "In this we will clean the rows ,adjust the values and make the dataset usable"
      ]
    },
    {
      "cell_type": "markdown",
      "metadata": {
        "id": "_CFvWzioi1Uf",
        "colab_type": "text"
      },
      "source": [
        "Column country-year doesn't have any use and can be generated from column year and column country"
      ]
    },
    {
      "cell_type": "code",
      "metadata": {
        "id": "I3z5A4ikm9qu",
        "colab_type": "code",
        "colab": {
          "base_uri": "https://localhost:8080/",
          "height": 206
        },
        "outputId": "3a14b1be-7734-407a-e066-505ea6e5a9e9"
      },
      "source": [
        "df=df.drop(file.columns[[7]],axis =1)\n",
        "df.head()"
      ],
      "execution_count": 8,
      "outputs": [
        {
          "output_type": "execute_result",
          "data": {
            "text/html": [
              "<div>\n",
              "<style scoped>\n",
              "    .dataframe tbody tr th:only-of-type {\n",
              "        vertical-align: middle;\n",
              "    }\n",
              "\n",
              "    .dataframe tbody tr th {\n",
              "        vertical-align: top;\n",
              "    }\n",
              "\n",
              "    .dataframe thead th {\n",
              "        text-align: right;\n",
              "    }\n",
              "</style>\n",
              "<table border=\"1\" class=\"dataframe\">\n",
              "  <thead>\n",
              "    <tr style=\"text-align: right;\">\n",
              "      <th></th>\n",
              "      <th>country</th>\n",
              "      <th>year</th>\n",
              "      <th>sex</th>\n",
              "      <th>age</th>\n",
              "      <th>suicides_no</th>\n",
              "      <th>population</th>\n",
              "      <th>suicides/100k pop</th>\n",
              "      <th>HDI for year</th>\n",
              "      <th>gdp_for_year ($)</th>\n",
              "      <th>gdp_per_capita ($)</th>\n",
              "      <th>generation</th>\n",
              "    </tr>\n",
              "  </thead>\n",
              "  <tbody>\n",
              "    <tr>\n",
              "      <th>0</th>\n",
              "      <td>Albania</td>\n",
              "      <td>1987</td>\n",
              "      <td>male</td>\n",
              "      <td>15-24 years</td>\n",
              "      <td>21</td>\n",
              "      <td>312900</td>\n",
              "      <td>6.71</td>\n",
              "      <td>NaN</td>\n",
              "      <td>2,156,624,900</td>\n",
              "      <td>796</td>\n",
              "      <td>Generation X</td>\n",
              "    </tr>\n",
              "    <tr>\n",
              "      <th>1</th>\n",
              "      <td>Albania</td>\n",
              "      <td>1987</td>\n",
              "      <td>male</td>\n",
              "      <td>35-54 years</td>\n",
              "      <td>16</td>\n",
              "      <td>308000</td>\n",
              "      <td>5.19</td>\n",
              "      <td>NaN</td>\n",
              "      <td>2,156,624,900</td>\n",
              "      <td>796</td>\n",
              "      <td>Silent</td>\n",
              "    </tr>\n",
              "    <tr>\n",
              "      <th>2</th>\n",
              "      <td>Albania</td>\n",
              "      <td>1987</td>\n",
              "      <td>female</td>\n",
              "      <td>15-24 years</td>\n",
              "      <td>14</td>\n",
              "      <td>289700</td>\n",
              "      <td>4.83</td>\n",
              "      <td>NaN</td>\n",
              "      <td>2,156,624,900</td>\n",
              "      <td>796</td>\n",
              "      <td>Generation X</td>\n",
              "    </tr>\n",
              "    <tr>\n",
              "      <th>3</th>\n",
              "      <td>Albania</td>\n",
              "      <td>1987</td>\n",
              "      <td>male</td>\n",
              "      <td>75+ years</td>\n",
              "      <td>1</td>\n",
              "      <td>21800</td>\n",
              "      <td>4.59</td>\n",
              "      <td>NaN</td>\n",
              "      <td>2,156,624,900</td>\n",
              "      <td>796</td>\n",
              "      <td>G.I. Generation</td>\n",
              "    </tr>\n",
              "    <tr>\n",
              "      <th>4</th>\n",
              "      <td>Albania</td>\n",
              "      <td>1987</td>\n",
              "      <td>male</td>\n",
              "      <td>25-34 years</td>\n",
              "      <td>9</td>\n",
              "      <td>274300</td>\n",
              "      <td>3.28</td>\n",
              "      <td>NaN</td>\n",
              "      <td>2,156,624,900</td>\n",
              "      <td>796</td>\n",
              "      <td>Boomers</td>\n",
              "    </tr>\n",
              "  </tbody>\n",
              "</table>\n",
              "</div>"
            ],
            "text/plain": [
              "   country  year  ... gdp_per_capita ($)       generation\n",
              "0  Albania  1987  ...                796     Generation X\n",
              "1  Albania  1987  ...                796           Silent\n",
              "2  Albania  1987  ...                796     Generation X\n",
              "3  Albania  1987  ...                796  G.I. Generation\n",
              "4  Albania  1987  ...                796          Boomers\n",
              "\n",
              "[5 rows x 11 columns]"
            ]
          },
          "metadata": {
            "tags": []
          },
          "execution_count": 8
        }
      ]
    },
    {
      "cell_type": "code",
      "metadata": {
        "id": "-K_a7mRojWYM",
        "colab_type": "code",
        "colab": {
          "base_uri": "https://localhost:8080/",
          "height": 36
        },
        "outputId": "372bec92-ab1f-409e-ae6c-e6019ee047e6"
      },
      "source": [
        "print(str(sum(pd.isnull(df['HDI for year'])))+ \" out of \"+ str(df.shape[0])+ \" is Nan in HDI for year\")"
      ],
      "execution_count": 9,
      "outputs": [
        {
          "output_type": "stream",
          "text": [
            "19456 out of 27820 is Nan in HDI for year\n"
          ],
          "name": "stdout"
        }
      ]
    },
    {
      "cell_type": "markdown",
      "metadata": {
        "id": "1FqIf0uxkL7A",
        "colab_type": "text"
      },
      "source": [
        "We can modify the hdi for year to hdi of country over the time period of 1987 to 2016 by taking the mean in each country . we are storing the modified one in different dataset along with country\n",
        "Drop the rows containing hdi 0.\n"
      ]
    },
    {
      "cell_type": "code",
      "metadata": {
        "id": "_hoZVjTMjA7z",
        "colab_type": "code",
        "colab": {
          "base_uri": "https://localhost:8080/",
          "height": 424
        },
        "outputId": "ea1fd24d-d0b0-4d8b-c3d2-0f6bcaac33fd"
      },
      "source": [
        "##################################################################\n",
        "#correcting and giving hdi for every country\n",
        "country_count = len(np.unique(list(df[df.columns[0]])))\n",
        "countries_lst = np.unique(list(df[df.columns[0]]))\n",
        "countries_dict={countries_lst[i]:i for i in range(country_count) }\n",
        "hdi=[0.0]*country_count\n",
        "count=[0.0]*country_count\n",
        "\n",
        "for i in df.index:\n",
        "    if pd.isnull(df.iloc[i,7]) == False:\n",
        "        count[countries_dict[df.iloc[i,0]]] +=1\n",
        "        hdi[countries_dict[df.iloc[i,0]]] += float(df.iloc[i,7])\n",
        "\n",
        "for i in range(country_count):\n",
        "    hdi[i] /= count[i] if count[i] !=0 else 1;\n",
        "\n",
        "hdi_formated = np.array([ '%.3f' % elem for elem in hdi ])\n",
        "\n",
        "for i in df.index:\n",
        "    cntry=df.iloc[i,0]\n",
        "    cntry_index=countries_dict[cntry]\n",
        "    df.iloc[i,7] = hdi_formated[cntry_index]\n",
        "\n",
        "hdi_dict={countries_lst[i]:hdi_formated[i] for i in range(country_count)}\n",
        "hdi_df = pd.DataFrame(hdi_dict.items(),columns=['Country','HDI'])\n",
        "hdi_df = hdi_df[hdi_df.HDI != '0.000']\n",
        "hdi_df = hdi_df.sort_values('HDI',ascending= False)\n",
        "hdi_df.reset_index(drop=True, inplace=True)\n",
        "\n",
        "for i in range(hdi_df.shape[0]):\n",
        "  hdi_df['HDI'][i] = float(hdi_df['HDI'][i])\n",
        "\n",
        "hdi_df"
      ],
      "execution_count": 10,
      "outputs": [
        {
          "output_type": "execute_result",
          "data": {
            "text/html": [
              "<div>\n",
              "<style scoped>\n",
              "    .dataframe tbody tr th:only-of-type {\n",
              "        vertical-align: middle;\n",
              "    }\n",
              "\n",
              "    .dataframe tbody tr th {\n",
              "        vertical-align: top;\n",
              "    }\n",
              "\n",
              "    .dataframe thead th {\n",
              "        text-align: right;\n",
              "    }\n",
              "</style>\n",
              "<table border=\"1\" class=\"dataframe\">\n",
              "  <thead>\n",
              "    <tr style=\"text-align: right;\">\n",
              "      <th></th>\n",
              "      <th>Country</th>\n",
              "      <th>HDI</th>\n",
              "    </tr>\n",
              "  </thead>\n",
              "  <tbody>\n",
              "    <tr>\n",
              "      <th>0</th>\n",
              "      <td>Norway</td>\n",
              "      <td>0.921</td>\n",
              "    </tr>\n",
              "    <tr>\n",
              "      <th>1</th>\n",
              "      <td>Australia</td>\n",
              "      <td>0.913</td>\n",
              "    </tr>\n",
              "    <tr>\n",
              "      <th>2</th>\n",
              "      <td>Switzerland</td>\n",
              "      <td>0.909</td>\n",
              "    </tr>\n",
              "    <tr>\n",
              "      <th>3</th>\n",
              "      <td>Denmark</td>\n",
              "      <td>0.899</td>\n",
              "    </tr>\n",
              "    <tr>\n",
              "      <th>4</th>\n",
              "      <td>United States</td>\n",
              "      <td>0.892</td>\n",
              "    </tr>\n",
              "    <tr>\n",
              "      <th>...</th>\n",
              "      <td>...</td>\n",
              "      <td>...</td>\n",
              "    </tr>\n",
              "    <tr>\n",
              "      <th>85</th>\n",
              "      <td>Nicaragua</td>\n",
              "      <td>0.625</td>\n",
              "    </tr>\n",
              "    <tr>\n",
              "      <th>86</th>\n",
              "      <td>Azerbaijan</td>\n",
              "      <td>0.625</td>\n",
              "    </tr>\n",
              "    <tr>\n",
              "      <th>87</th>\n",
              "      <td>Kyrgyzstan</td>\n",
              "      <td>0.623</td>\n",
              "    </tr>\n",
              "    <tr>\n",
              "      <th>88</th>\n",
              "      <td>Guyana</td>\n",
              "      <td>0.608</td>\n",
              "    </tr>\n",
              "    <tr>\n",
              "      <th>89</th>\n",
              "      <td>Guatemala</td>\n",
              "      <td>0.581</td>\n",
              "    </tr>\n",
              "  </tbody>\n",
              "</table>\n",
              "<p>90 rows × 2 columns</p>\n",
              "</div>"
            ],
            "text/plain": [
              "          Country    HDI\n",
              "0          Norway  0.921\n",
              "1       Australia  0.913\n",
              "2     Switzerland  0.909\n",
              "3         Denmark  0.899\n",
              "4   United States  0.892\n",
              "..            ...    ...\n",
              "85      Nicaragua  0.625\n",
              "86     Azerbaijan  0.625\n",
              "87     Kyrgyzstan  0.623\n",
              "88         Guyana  0.608\n",
              "89      Guatemala  0.581\n",
              "\n",
              "[90 rows x 2 columns]"
            ]
          },
          "metadata": {
            "tags": []
          },
          "execution_count": 10
        }
      ]
    },
    {
      "cell_type": "code",
      "metadata": {
        "id": "J6zmXC1pnrbJ",
        "colab_type": "code",
        "colab": {
          "base_uri": "https://localhost:8080/",
          "height": 206
        },
        "outputId": "8e55130b-1b76-494c-aeb1-edb1333363cc"
      },
      "source": [
        "df.tail()"
      ],
      "execution_count": 11,
      "outputs": [
        {
          "output_type": "execute_result",
          "data": {
            "text/html": [
              "<div>\n",
              "<style scoped>\n",
              "    .dataframe tbody tr th:only-of-type {\n",
              "        vertical-align: middle;\n",
              "    }\n",
              "\n",
              "    .dataframe tbody tr th {\n",
              "        vertical-align: top;\n",
              "    }\n",
              "\n",
              "    .dataframe thead th {\n",
              "        text-align: right;\n",
              "    }\n",
              "</style>\n",
              "<table border=\"1\" class=\"dataframe\">\n",
              "  <thead>\n",
              "    <tr style=\"text-align: right;\">\n",
              "      <th></th>\n",
              "      <th>country</th>\n",
              "      <th>year</th>\n",
              "      <th>sex</th>\n",
              "      <th>age</th>\n",
              "      <th>suicides_no</th>\n",
              "      <th>population</th>\n",
              "      <th>suicides/100k pop</th>\n",
              "      <th>HDI for year</th>\n",
              "      <th>gdp_for_year ($)</th>\n",
              "      <th>gdp_per_capita ($)</th>\n",
              "      <th>generation</th>\n",
              "    </tr>\n",
              "  </thead>\n",
              "  <tbody>\n",
              "    <tr>\n",
              "      <th>27815</th>\n",
              "      <td>Uzbekistan</td>\n",
              "      <td>2014</td>\n",
              "      <td>female</td>\n",
              "      <td>35-54 years</td>\n",
              "      <td>107</td>\n",
              "      <td>3620833</td>\n",
              "      <td>2.96</td>\n",
              "      <td>0.650</td>\n",
              "      <td>63,067,077,179</td>\n",
              "      <td>2309</td>\n",
              "      <td>Generation X</td>\n",
              "    </tr>\n",
              "    <tr>\n",
              "      <th>27816</th>\n",
              "      <td>Uzbekistan</td>\n",
              "      <td>2014</td>\n",
              "      <td>female</td>\n",
              "      <td>75+ years</td>\n",
              "      <td>9</td>\n",
              "      <td>348465</td>\n",
              "      <td>2.58</td>\n",
              "      <td>0.650</td>\n",
              "      <td>63,067,077,179</td>\n",
              "      <td>2309</td>\n",
              "      <td>Silent</td>\n",
              "    </tr>\n",
              "    <tr>\n",
              "      <th>27817</th>\n",
              "      <td>Uzbekistan</td>\n",
              "      <td>2014</td>\n",
              "      <td>male</td>\n",
              "      <td>5-14 years</td>\n",
              "      <td>60</td>\n",
              "      <td>2762158</td>\n",
              "      <td>2.17</td>\n",
              "      <td>0.650</td>\n",
              "      <td>63,067,077,179</td>\n",
              "      <td>2309</td>\n",
              "      <td>Generation Z</td>\n",
              "    </tr>\n",
              "    <tr>\n",
              "      <th>27818</th>\n",
              "      <td>Uzbekistan</td>\n",
              "      <td>2014</td>\n",
              "      <td>female</td>\n",
              "      <td>5-14 years</td>\n",
              "      <td>44</td>\n",
              "      <td>2631600</td>\n",
              "      <td>1.67</td>\n",
              "      <td>0.650</td>\n",
              "      <td>63,067,077,179</td>\n",
              "      <td>2309</td>\n",
              "      <td>Generation Z</td>\n",
              "    </tr>\n",
              "    <tr>\n",
              "      <th>27819</th>\n",
              "      <td>Uzbekistan</td>\n",
              "      <td>2014</td>\n",
              "      <td>female</td>\n",
              "      <td>55-74 years</td>\n",
              "      <td>21</td>\n",
              "      <td>1438935</td>\n",
              "      <td>1.46</td>\n",
              "      <td>0.650</td>\n",
              "      <td>63,067,077,179</td>\n",
              "      <td>2309</td>\n",
              "      <td>Boomers</td>\n",
              "    </tr>\n",
              "  </tbody>\n",
              "</table>\n",
              "</div>"
            ],
            "text/plain": [
              "          country  year  ... gdp_per_capita ($)    generation\n",
              "27815  Uzbekistan  2014  ...               2309  Generation X\n",
              "27816  Uzbekistan  2014  ...               2309        Silent\n",
              "27817  Uzbekistan  2014  ...               2309  Generation Z\n",
              "27818  Uzbekistan  2014  ...               2309  Generation Z\n",
              "27819  Uzbekistan  2014  ...               2309       Boomers\n",
              "\n",
              "[5 rows x 11 columns]"
            ]
          },
          "metadata": {
            "tags": []
          },
          "execution_count": 11
        }
      ]
    },
    {
      "cell_type": "markdown",
      "metadata": {
        "id": "WEgrtcS7jHSF",
        "colab_type": "text"
      },
      "source": [
        "Some countries didn't gave for 2015 and 2016.\n",
        "Since this is the last 2 year , we are trimming this data as it may not be accurate values"
      ]
    },
    {
      "cell_type": "code",
      "metadata": {
        "id": "0YkJUcBYn8yF",
        "colab_type": "code",
        "colab": {
          "base_uri": "https://localhost:8080/",
          "height": 206
        },
        "outputId": "f5e43aa4-8ac5-4cea-aa0f-e9db698d3a40"
      },
      "source": [
        "df=df[(df.year != 2016)]\n",
        "df=df[(df.year != 2015)]\n",
        "df.reset_index(drop=True, inplace=True)\n",
        "df.head()"
      ],
      "execution_count": 12,
      "outputs": [
        {
          "output_type": "execute_result",
          "data": {
            "text/html": [
              "<div>\n",
              "<style scoped>\n",
              "    .dataframe tbody tr th:only-of-type {\n",
              "        vertical-align: middle;\n",
              "    }\n",
              "\n",
              "    .dataframe tbody tr th {\n",
              "        vertical-align: top;\n",
              "    }\n",
              "\n",
              "    .dataframe thead th {\n",
              "        text-align: right;\n",
              "    }\n",
              "</style>\n",
              "<table border=\"1\" class=\"dataframe\">\n",
              "  <thead>\n",
              "    <tr style=\"text-align: right;\">\n",
              "      <th></th>\n",
              "      <th>country</th>\n",
              "      <th>year</th>\n",
              "      <th>sex</th>\n",
              "      <th>age</th>\n",
              "      <th>suicides_no</th>\n",
              "      <th>population</th>\n",
              "      <th>suicides/100k pop</th>\n",
              "      <th>HDI for year</th>\n",
              "      <th>gdp_for_year ($)</th>\n",
              "      <th>gdp_per_capita ($)</th>\n",
              "      <th>generation</th>\n",
              "    </tr>\n",
              "  </thead>\n",
              "  <tbody>\n",
              "    <tr>\n",
              "      <th>0</th>\n",
              "      <td>Albania</td>\n",
              "      <td>1987</td>\n",
              "      <td>male</td>\n",
              "      <td>15-24 years</td>\n",
              "      <td>21</td>\n",
              "      <td>312900</td>\n",
              "      <td>6.71</td>\n",
              "      <td>0.673</td>\n",
              "      <td>2,156,624,900</td>\n",
              "      <td>796</td>\n",
              "      <td>Generation X</td>\n",
              "    </tr>\n",
              "    <tr>\n",
              "      <th>1</th>\n",
              "      <td>Albania</td>\n",
              "      <td>1987</td>\n",
              "      <td>male</td>\n",
              "      <td>35-54 years</td>\n",
              "      <td>16</td>\n",
              "      <td>308000</td>\n",
              "      <td>5.19</td>\n",
              "      <td>0.673</td>\n",
              "      <td>2,156,624,900</td>\n",
              "      <td>796</td>\n",
              "      <td>Silent</td>\n",
              "    </tr>\n",
              "    <tr>\n",
              "      <th>2</th>\n",
              "      <td>Albania</td>\n",
              "      <td>1987</td>\n",
              "      <td>female</td>\n",
              "      <td>15-24 years</td>\n",
              "      <td>14</td>\n",
              "      <td>289700</td>\n",
              "      <td>4.83</td>\n",
              "      <td>0.673</td>\n",
              "      <td>2,156,624,900</td>\n",
              "      <td>796</td>\n",
              "      <td>Generation X</td>\n",
              "    </tr>\n",
              "    <tr>\n",
              "      <th>3</th>\n",
              "      <td>Albania</td>\n",
              "      <td>1987</td>\n",
              "      <td>male</td>\n",
              "      <td>75+ years</td>\n",
              "      <td>1</td>\n",
              "      <td>21800</td>\n",
              "      <td>4.59</td>\n",
              "      <td>0.673</td>\n",
              "      <td>2,156,624,900</td>\n",
              "      <td>796</td>\n",
              "      <td>G.I. Generation</td>\n",
              "    </tr>\n",
              "    <tr>\n",
              "      <th>4</th>\n",
              "      <td>Albania</td>\n",
              "      <td>1987</td>\n",
              "      <td>male</td>\n",
              "      <td>25-34 years</td>\n",
              "      <td>9</td>\n",
              "      <td>274300</td>\n",
              "      <td>3.28</td>\n",
              "      <td>0.673</td>\n",
              "      <td>2,156,624,900</td>\n",
              "      <td>796</td>\n",
              "      <td>Boomers</td>\n",
              "    </tr>\n",
              "  </tbody>\n",
              "</table>\n",
              "</div>"
            ],
            "text/plain": [
              "   country  year  ... gdp_per_capita ($)       generation\n",
              "0  Albania  1987  ...                796     Generation X\n",
              "1  Albania  1987  ...                796           Silent\n",
              "2  Albania  1987  ...                796     Generation X\n",
              "3  Albania  1987  ...                796  G.I. Generation\n",
              "4  Albania  1987  ...                796          Boomers\n",
              "\n",
              "[5 rows x 11 columns]"
            ]
          },
          "metadata": {
            "tags": []
          },
          "execution_count": 12
        }
      ]
    },
    {
      "cell_type": "markdown",
      "metadata": {
        "id": "sbIGyCpjo_2X",
        "colab_type": "text"
      },
      "source": [
        "#4. Modeling\n",
        "\n",
        "In this component, we will visualise the data"
      ]
    },
    {
      "cell_type": "code",
      "metadata": {
        "id": "LM1AHUW3i4dp",
        "colab_type": "code",
        "colab": {}
      },
      "source": [
        "#Defining the custom function\n",
        "\n",
        "#horizontal Bar graph\n",
        "def barh_dic(D,size=(7,10),title=\"\"):\n",
        "    plt.figure(figsize=size)\n",
        "    plt.barh(*zip(*D.items()) )\n",
        "    plt.title(title)\n",
        "    plt.show()\n",
        "\n",
        "#Bar graph\n",
        "def bar_dic(D,size=(10,7),title=\"\"):\n",
        "    plt.figure(figsize=size)\n",
        "    plt.bar(*zip(*D.items()) )\n",
        "    plt.title(title)\n",
        "    plt.show()\n",
        "\n",
        "#Line Graph\n",
        "def line_dic(D,size=(10,7),title=\"\"):\n",
        "    plt.figure(figsize=size)\n",
        "    plt.plot(*zip(*D.items()) )\n",
        "    plt.title(title)\n",
        "    plt.show()\n",
        "\n",
        "#Analyse and make dictionary with suicide and different parameters\n",
        "def parameterwise_count(index,horizontal=0,title=\"\",plot=\"bar\",sort=1):\n",
        "    parameter_count = len(np.unique(list(df[df.columns[index]])))\n",
        "    \n",
        "    parameter_lst = np.unique(list(df[df.columns[index]]))\n",
        "    \n",
        "    parameter_dict={parameter_lst[i]:i for i in range(parameter_count) }\n",
        "    \n",
        "    suicide_count_parameterwise_lst = np.zeros(parameter_count)\n",
        "    \n",
        "    for i in df.index:\n",
        "        suicide_count_parameterwise_lst[parameter_dict[df.iloc[i,index]]] +=df.iloc[i,4]\n",
        "    \n",
        "    suicide_count_parameterwise_dict={parameter_lst[i] : suicide_count_parameterwise_lst[i] for i in range(parameter_count)}\n",
        "    \n",
        "    if sort:\n",
        "        suicide_count_parameterwise_dict={k: v for k, v in sorted(suicide_count_parameterwise_dict.items(), key=lambda item: item[1])}\n",
        "    \n",
        "    if plot==\"bar\":\n",
        "        if horizontal:\n",
        "            barh_dic(suicide_count_parameterwise_dict,title=title)\n",
        "        else:\n",
        "            bar_dic(suicide_count_parameterwise_dict,title=title)\n",
        "    else:\n",
        "        line_dic(suicide_count_parameterwise_dict,title=title)\n",
        "        \n",
        "        \n",
        "#Analyse and make dictionary with suicide_100K_pop and different parameters\n",
        "def parameterwise_count_100k_pop(index,horizontal=0,title=\"\",plot=\"bar\"):\n",
        "    parameter_count = len(np.unique(list(df[df.columns[index]])))\n",
        "    \n",
        "    parameter_lst = np.unique(list(df[df.columns[index]]))\n",
        "    \n",
        "    parameter_dict={parameter_lst[i]:i for i in range(parameter_count) }\n",
        "    \n",
        "    suicide_count_parameterwise_lst = np.zeros(parameter_count)\n",
        "    \n",
        "    for i in df.index:\n",
        "        suicide_count_parameterwise_lst[parameter_dict[df.iloc[i,index]]] +=df.iloc[i,6]\n",
        "    \n",
        "    suicide_count_parameterwise_dict={parameter_lst[i] : suicide_count_parameterwise_lst[i] for i in range(parameter_count)}\n",
        "    \n",
        "    if plot==\"bar\":\n",
        "        if horizontal:\n",
        "            barh_dic(suicide_count_parameterwise_dict,title=title)\n",
        "        else:\n",
        "            bar_dic(suicide_count_parameterwise_dict,title=title)\n",
        "    else:\n",
        "        line_dic(suicide_count_parameterwise_dict,title=title)\n",
        "        \n"
      ],
      "execution_count": 0,
      "outputs": []
    },
    {
      "cell_type": "markdown",
      "metadata": {
        "id": "ZUHh1qfyp4-y",
        "colab_type": "text"
      },
      "source": [
        "###1) Which country has the highest suicide number across a total time period from 1985 to 2014 ?\n",
        "\n",
        "Countrywise suicide rate\n"
      ]
    },
    {
      "cell_type": "code",
      "metadata": {
        "id": "EkAJqC2si9Qp",
        "colab_type": "code",
        "colab": {
          "base_uri": "https://localhost:8080/",
          "height": 1000
        },
        "outputId": "594313c8-c306-4147-c923-26a489a42e43"
      },
      "source": [
        "#countrywise suicide rate\n",
        "country_count = len(np.unique(list(df[df.columns[0]])))\n",
        "countries_lst = np.unique(list(df[df.columns[0]]))\n",
        "countries_dict={countries_lst[i]:i for i in range(country_count) }\n",
        "suicide_count_countrywise_lst = np.zeros(country_count)\n",
        "    \n",
        "for i in df.index:\n",
        "    suicide_count_countrywise_lst[countries_dict[df.iloc[i,0]]] +=df.iloc[i,4]\n",
        "    \n",
        "suicide_count_countrywise_dict={countries_lst[i] : suicide_count_countrywise_lst[i] for i in range(country_count)}\n",
        "#sorting\n",
        "suicide_count_countrywise_dict={k: v for k, v in sorted(suicide_count_countrywise_dict.items(), key=lambda item: item[1])}\n",
        "    \n",
        "suicide_describe=pd.Series(suicide_count_countrywise_lst).describe()\n",
        "\n",
        "#countries having more than 75% of suicide\n",
        "suicide_count_75 = {}\n",
        "for i in range(country_count):\n",
        "    if(suicide_count_countrywise_dict[countries_lst[i]] > suicide_describe['75%']):\n",
        "        suicide_count_75[countries_lst[i]] = suicide_count_countrywise_dict[countries_lst[i]]\n",
        "\n",
        "#countries having less than 25% of suicide\n",
        "suicide_count_25 = {}\n",
        "for i in range(country_count):\n",
        "    if(suicide_count_countrywise_dict[countries_lst[i]] < suicide_describe['25%']):\n",
        "        suicide_count_25[countries_lst[i]] = suicide_count_countrywise_dict[countries_lst[i]]\n",
        "\n",
        "suicide_count_25={k: v for k, v in sorted(suicide_count_25.items(), key=lambda item: item[1])}\n",
        "\n",
        "suicide_count_75={k: v for k, v in sorted(suicide_count_75.items(), key=lambda item: item[1])}\n",
        "\n",
        "#barh graph of 75 and 25 suicide\n",
        "barh_dic(suicide_count_25,title=\"Suicide Count (<25%) by country\")\n",
        "\n",
        "barh_dic(suicide_count_75,title=\"Suicide Count (>75%) by country\")\n",
        "\n"
      ],
      "execution_count": 14,
      "outputs": [
        {
          "output_type": "display_data",
          "data": {
            "image/png": "[encoded data removed]",
            "text/plain": [
              "<Figure size 504x720 with 1 Axes>"
            ]
          },
          "metadata": {
            "tags": [],
            "needs_background": "light"
          }
        },
        {
          "output_type": "display_data",
          "data": {
            "image/png": "[encoded data removed]",
            "text/plain": [
              "<Figure size 504x720 with 1 Axes>"
            ]
          },
          "metadata": {
            "tags": [],
            "needs_background": "light"
          }
        }
      ]
    },
    {
      "cell_type": "markdown",
      "metadata": {
        "id": "Y-3l9mOBypbK",
        "colab_type": "text"
      },
      "source": [
        "In terms of number , it is Russia , USA and Japan"
      ]
    },
    {
      "cell_type": "code",
      "metadata": {
        "id": "o6EezyzljRiP",
        "colab_type": "code",
        "colab": {
          "base_uri": "https://localhost:8080/",
          "height": 1000
        },
        "outputId": "9af48023-a8a3-4f0e-f881-364e484b2415"
      },
      "source": [
        "############################################################################################\n",
        "#suicide/100k_pop and country \n",
        "country_count_100k_pop = len(np.unique(list(df[df.columns[0]])))\n",
        "countries_100k_pop_lst = np.unique(list(df[df.columns[0]]))\n",
        "countries_100k_pop_dict={countries_100k_pop_lst[i]:i for i in range(country_count_100k_pop) }\n",
        "suicide_count_countrywise_100k_pop_lst = np.zeros(country_count_100k_pop)\n",
        "\n",
        "for i in df.index:\n",
        "    suicide_count_countrywise_100k_pop_lst[countries_100k_pop_dict[df.iloc[i,0]]] +=df.iloc[i,6]\n",
        "    \n",
        "suicide_count_countrywise_100k_pop_dict={countries_100k_pop_lst[i] : suicide_count_countrywise_100k_pop_lst[i] for i in range(country_count_100k_pop)}\n",
        "#sorting\n",
        "suicide_count_countrywise_100k_pop_dict={k: v for k, v in sorted(suicide_count_countrywise_100k_pop_dict.items(), key=lambda item: item[1])}\n",
        "suicide_100k_pop_describe=pd.Series(suicide_count_countrywise_100k_pop_lst).describe()\n",
        "suicide_count_100k_pop_75 = {}\n",
        "\n",
        "for i in range(country_count_100k_pop):\n",
        "    if(suicide_count_countrywise_100k_pop_dict[countries_100k_pop_lst[i]] > suicide_100k_pop_describe['75%']):\n",
        "        suicide_count_100k_pop_75[countries_100k_pop_lst[i]] = suicide_count_countrywise_100k_pop_dict[countries_100k_pop_lst[i]]\n",
        "\n",
        "#countries having less than 25% of suicide\n",
        "suicide_count_100k_pop_25 = {}\n",
        "for i in range(country_count_100k_pop):\n",
        "    if(suicide_count_countrywise_100k_pop_dict[countries_100k_pop_lst[i]] < suicide_100k_pop_describe['25%']):\n",
        "        suicide_count_100k_pop_25[countries_100k_pop_lst[i]] = suicide_count_countrywise_100k_pop_dict[countries_100k_pop_lst[i]]\n",
        "\n",
        "suicide_count_100k_pop_25={k: v for k, v in sorted(suicide_count_100k_pop_25.items(), key=lambda item: item[1])}\n",
        "suicide_count_100k_pop_75={k: v for k, v in sorted(suicide_count_100k_pop_75.items(), key=lambda item: item[1])}\n",
        "\n",
        "#barh graph of 75 and 35 suicide\n",
        "barh_dic(suicide_count_100k_pop_25,title=\"Suicide (<25%) (per 100k pop) Count by Country\")\n",
        "barh_dic(suicide_count_100k_pop_75,title=\"Suicide (>75%) (per 100k pop) Count by Age\")"
      ],
      "execution_count": 15,
      "outputs": [
        {
          "output_type": "display_data",
          "data": {
            "image/png": "[encoded data removed]",
            "text/plain": [
              "<Figure size 504x720 with 1 Axes>"
            ]
          },
          "metadata": {
            "tags": [],
            "needs_background": "light"
          }
        },
        {
          "output_type": "display_data",
          "data": {
            "image/png": "[encoded data removed]",
            "text/plain": [
              "<Figure size 504x720 with 1 Axes>"
            ]
          },
          "metadata": {
            "tags": [],
            "needs_background": "light"
          }
        }
      ]
    },
    {
      "cell_type": "markdown",
      "metadata": {
        "id": "thL4La72qJlD",
        "colab_type": "text"
      },
      "source": [
        "###2) To which age category and sex category do most people belong?\n",
        "\n",
        "Agewise suicide count"
      ]
    },
    {
      "cell_type": "code",
      "metadata": {
        "id": "r9UvJAUDjG9O",
        "colab_type": "code",
        "colab": {
          "base_uri": "https://localhost:8080/",
          "height": 442
        },
        "outputId": "98a21fb6-a830-4c89-abd3-32ff85129ccd"
      },
      "source": [
        "\n",
        "index=3;\n",
        "title=\"Suicide Count by Age\"\n",
        "parameterwise_count(index,title=title)"
      ],
      "execution_count": 16,
      "outputs": [
        {
          "output_type": "display_data",
          "data": {
            "image/png": "[encoded data removed]",
            "text/plain": [
              "<Figure size 720x504 with 1 Axes>"
            ]
          },
          "metadata": {
            "tags": [],
            "needs_background": "light"
          }
        }
      ]
    },
    {
      "cell_type": "markdown",
      "metadata": {
        "id": "-nvw_J59z18N",
        "colab_type": "text"
      },
      "source": [
        "Highest suicide is for 35-54 age working class"
      ]
    },
    {
      "cell_type": "markdown",
      "metadata": {
        "id": "98oCden0qOZ3",
        "colab_type": "text"
      },
      "source": [
        "Sexwise suicide count"
      ]
    },
    {
      "cell_type": "code",
      "metadata": {
        "id": "y3CSMGn4jJRj",
        "colab_type": "code",
        "colab": {
          "base_uri": "https://localhost:8080/",
          "height": 442
        },
        "outputId": "0dbecc47-9319-41fa-8d36-0df5602d9ceb"
      },
      "source": [
        "index=2\n",
        "title=\"Suicide Count by Sex\"\n",
        "parameterwise_count(index,title=title)"
      ],
      "execution_count": 17,
      "outputs": [
        {
          "output_type": "display_data",
          "data": {
            "image/png": "[encoded data removed]",
            "text/plain": [
              "<Figure size 720x504 with 1 Axes>"
            ]
          },
          "metadata": {
            "tags": [],
            "needs_background": "light"
          }
        }
      ]
    },
    {
      "cell_type": "markdown",
      "metadata": {
        "id": "u_bmh-ufz-dx",
        "colab_type": "text"
      },
      "source": [
        "Highest suicide is for males\n"
      ]
    },
    {
      "cell_type": "markdown",
      "metadata": {
        "id": "-hpGn6yV0EMJ",
        "colab_type": "text"
      },
      "source": [
        "###3) In which generation does it occured mostly?\n"
      ]
    },
    {
      "cell_type": "markdown",
      "metadata": {
        "id": "SRPNH0zmqUNi",
        "colab_type": "text"
      },
      "source": [
        "Suicide Count by Generation"
      ]
    },
    {
      "cell_type": "code",
      "metadata": {
        "id": "Jzaz4nt4jKva",
        "colab_type": "code",
        "colab": {
          "base_uri": "https://localhost:8080/",
          "height": 618
        },
        "outputId": "b065ed8a-084d-45c3-c7be-0254f30f50d8"
      },
      "source": [
        "index = 10\n",
        "title=\"Suicide Count by Generation\"\n",
        "parameterwise_count(index,horizontal=1,title=title)"
      ],
      "execution_count": 18,
      "outputs": [
        {
          "output_type": "display_data",
          "data": {
            "image/png": "[encoded data removed]",
            "text/plain": [
              "<Figure size 504x720 with 1 Axes>"
            ]
          },
          "metadata": {
            "tags": [],
            "needs_background": "light"
          }
        }
      ]
    },
    {
      "cell_type": "markdown",
      "metadata": {
        "id": "RqBWKgKx0RbF",
        "colab_type": "text"
      },
      "source": [
        "Highest is among Boomers (1944 - 1964)"
      ]
    },
    {
      "cell_type": "markdown",
      "metadata": {
        "id": "SglL6HKjzRCE",
        "colab_type": "text"
      },
      "source": [
        "###4) Does it have any relation with year (proportional as with increasing time or not ) ?\n"
      ]
    },
    {
      "cell_type": "markdown",
      "metadata": {
        "id": "_vdd8steqGAN",
        "colab_type": "text"
      },
      "source": [
        "Yearwise Suicide count"
      ]
    },
    {
      "cell_type": "code",
      "metadata": {
        "id": "PpTXLW9ljDlK",
        "colab_type": "code",
        "colab": {
          "base_uri": "https://localhost:8080/",
          "height": 442
        },
        "outputId": "6391d966-3c37-4459-e21e-c741de06bc56"
      },
      "source": [
        "#yearwise Suicide count\n",
        "index=1\n",
        "title=\"Suicide Count by Year\"\n",
        "parameterwise_count(index,title=title,plot=\"line\",sort=0)"
      ],
      "execution_count": 19,
      "outputs": [
        {
          "output_type": "display_data",
          "data": {
            "image/png": "[encoded data removed]",
            "text/plain": [
              "<Figure size 720x504 with 1 Axes>"
            ]
          },
          "metadata": {
            "tags": [],
            "needs_background": "light"
          }
        }
      ]
    },
    {
      "cell_type": "markdown",
      "metadata": {
        "id": "RIGeBn3pzWR4",
        "colab_type": "text"
      },
      "source": [
        "Before 1990 , suicide rate was less than after 1990 and increased by twice (kind of proportional).\n",
        "After 1995 , it stays above 220k level"
      ]
    },
    {
      "cell_type": "markdown",
      "metadata": {
        "id": "3pnBjfI_0brR",
        "colab_type": "text"
      },
      "source": [
        "###5) Does the HDI have anything common with suicide number?"
      ]
    },
    {
      "cell_type": "code",
      "metadata": {
        "id": "RRBGH-QIjSJp",
        "colab_type": "code",
        "colab": {}
      },
      "source": [
        "hdi_df[\"Suicide Number\"]=0\n",
        "for i in range(hdi_df.shape[0]):\n",
        "  hdi_df[\"Suicide Number\"][i] = suicide_count_countrywise_dict[hdi_df[\"Country\"][i]]\n",
        "\n",
        "hdi_df = hdi_df.sort_values(\"Suicide Number\",ascending =False)\n",
        "hdi_df.reset_index(drop=True, inplace=True)"
      ],
      "execution_count": 0,
      "outputs": []
    },
    {
      "cell_type": "code",
      "metadata": {
        "id": "deLKSdih8Sbn",
        "colab_type": "code",
        "colab": {
          "base_uri": "https://localhost:8080/",
          "height": 424
        },
        "outputId": "10813a52-5178-4132-b1a5-7dd64b542607"
      },
      "source": [
        "hdi_df"
      ],
      "execution_count": 21,
      "outputs": [
        {
          "output_type": "execute_result",
          "data": {
            "text/html": [
              "<div>\n",
              "<style scoped>\n",
              "    .dataframe tbody tr th:only-of-type {\n",
              "        vertical-align: middle;\n",
              "    }\n",
              "\n",
              "    .dataframe tbody tr th {\n",
              "        vertical-align: top;\n",
              "    }\n",
              "\n",
              "    .dataframe thead th {\n",
              "        text-align: right;\n",
              "    }\n",
              "</style>\n",
              "<table border=\"1\" class=\"dataframe\">\n",
              "  <thead>\n",
              "    <tr style=\"text-align: right;\">\n",
              "      <th></th>\n",
              "      <th>Country</th>\n",
              "      <th>HDI</th>\n",
              "      <th>Suicide Number</th>\n",
              "    </tr>\n",
              "  </thead>\n",
              "  <tbody>\n",
              "    <tr>\n",
              "      <th>0</th>\n",
              "      <td>United States</td>\n",
              "      <td>0.892</td>\n",
              "      <td>989824</td>\n",
              "    </tr>\n",
              "    <tr>\n",
              "      <th>1</th>\n",
              "      <td>Japan</td>\n",
              "      <td>0.861</td>\n",
              "      <td>783810</td>\n",
              "    </tr>\n",
              "    <tr>\n",
              "      <th>2</th>\n",
              "      <td>France</td>\n",
              "      <td>0.849</td>\n",
              "      <td>329127</td>\n",
              "    </tr>\n",
              "    <tr>\n",
              "      <th>3</th>\n",
              "      <td>Ukraine</td>\n",
              "      <td>0.714</td>\n",
              "      <td>312376</td>\n",
              "    </tr>\n",
              "    <tr>\n",
              "      <th>4</th>\n",
              "      <td>Germany</td>\n",
              "      <td>0.882</td>\n",
              "      <td>281174</td>\n",
              "    </tr>\n",
              "    <tr>\n",
              "      <th>...</th>\n",
              "      <td>...</td>\n",
              "      <td>...</td>\n",
              "      <td>...</td>\n",
              "    </tr>\n",
              "    <tr>\n",
              "      <th>85</th>\n",
              "      <td>Seychelles</td>\n",
              "      <td>0.755</td>\n",
              "      <td>91</td>\n",
              "    </tr>\n",
              "    <tr>\n",
              "      <th>86</th>\n",
              "      <td>Grenada</td>\n",
              "      <td>0.742</td>\n",
              "      <td>38</td>\n",
              "    </tr>\n",
              "    <tr>\n",
              "      <th>87</th>\n",
              "      <td>Oman</td>\n",
              "      <td>0.794</td>\n",
              "      <td>33</td>\n",
              "    </tr>\n",
              "    <tr>\n",
              "      <th>88</th>\n",
              "      <td>Maldives</td>\n",
              "      <td>0.654</td>\n",
              "      <td>20</td>\n",
              "    </tr>\n",
              "    <tr>\n",
              "      <th>89</th>\n",
              "      <td>Antigua and Barbuda</td>\n",
              "      <td>0.782</td>\n",
              "      <td>10</td>\n",
              "    </tr>\n",
              "  </tbody>\n",
              "</table>\n",
              "<p>90 rows × 3 columns</p>\n",
              "</div>"
            ],
            "text/plain": [
              "                Country    HDI  Suicide Number\n",
              "0         United States  0.892          989824\n",
              "1                 Japan  0.861          783810\n",
              "2                France  0.849          329127\n",
              "3               Ukraine  0.714          312376\n",
              "4               Germany  0.882          281174\n",
              "..                  ...    ...             ...\n",
              "85           Seychelles  0.755              91\n",
              "86              Grenada  0.742              38\n",
              "87                 Oman  0.794              33\n",
              "88             Maldives  0.654              20\n",
              "89  Antigua and Barbuda  0.782              10\n",
              "\n",
              "[90 rows x 3 columns]"
            ]
          },
          "metadata": {
            "tags": []
          },
          "execution_count": 21
        }
      ]
    },
    {
      "cell_type": "code",
      "metadata": {
        "id": "QG6yhYV44Uvo",
        "colab_type": "code",
        "colab": {}
      },
      "source": [
        "lst1=[0]*hdi_df.shape[0]\n",
        "lst2=[0]*hdi_df.shape[0]\n",
        "for i in range(hdi_df.shape[0]):\n",
        "  lst1[i] = hdi_df.iloc[i,1]\n",
        "  lst2[i] = hdi_df.iloc[i,2]"
      ],
      "execution_count": 0,
      "outputs": []
    },
    {
      "cell_type": "code",
      "metadata": {
        "id": "Ij3UqixZ3WmE",
        "colab_type": "code",
        "colab": {
          "base_uri": "https://localhost:8080/",
          "height": 459
        },
        "outputId": "f4d22537-9cc3-44ee-9a6a-d4f2ada12383"
      },
      "source": [
        "plt.figure(figsize=(10,7))\n",
        "plt.scatter(x=np.array(lst1),y=np.array(lst2))\n",
        "plt.xlabel((\"HDI\"))\n",
        "plt.ylabel(\"Suicide Number \")\n",
        "plt.title(\"HDI vs Suicide\")\n",
        "plt.show()"
      ],
      "execution_count": 23,
      "outputs": [
        {
          "output_type": "display_data",
          "data": {
            "image/png": "[encoded data removed]",
            "text/plain": [
              "<Figure size 720x504 with 1 Axes>"
            ]
          },
          "metadata": {
            "tags": [],
            "needs_background": "light"
          }
        }
      ]
    },
    {
      "cell_type": "markdown",
      "metadata": {
        "id": "yLc9o97W8_vg",
        "colab_type": "text"
      },
      "source": [
        "Suicides occur in great number when HDI is more than .65 which is quite contradictory to common belief."
      ]
    },
    {
      "cell_type": "markdown",
      "metadata": {
        "id": "7vhI6zUq99Ef",
        "colab_type": "text"
      },
      "source": [
        "#5. Evaluation\n",
        "\n",
        "\n",
        "Based on given data , \n",
        "\n",
        "Suicides occur in great number when HDI is more than .65 which is quite contradictory to common belief.\n",
        "\n",
        "Before 1990 , suicide rate was less than after 1990 and increased by twice (kind of proportional).\n",
        "After 1995 , it stays above 220k level\n",
        "\n",
        "Highest is among Boomers (those who are born during the time1944 - 1964)\n",
        "\n",
        "Males are most prone to this condition.\n",
        "\n",
        "Highest suicide is for 35-54 age working class\n",
        "\n",
        "In terms of number , highest is in Russia , USA and Japan\n"
      ]
    }
  ]
}